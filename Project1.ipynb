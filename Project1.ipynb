{
  "nbformat": 4,
  "nbformat_minor": 0,
  "metadata": {
    "colab": {
      "name": "Project1.ipynb",
      "provenance": [],
      "authorship_tag": "ABX9TyPIdRgf8uAzFN0YH0jW8DTP",
      "include_colab_link": true
    },
    "kernelspec": {
      "name": "python3",
      "display_name": "Python 3"
    },
    "language_info": {
      "name": "python"
    }
  },
  "cells": [
    {
      "cell_type": "markdown",
      "metadata": {
        "id": "view-in-github",
        "colab_type": "text"
      },
      "source": [
        "<a href=\"https://colab.research.google.com/github/RonitGupta2002/proj1/blob/main/Project1.ipynb\" target=\"_parent\"><img src=\"https://colab.research.google.com/assets/colab-badge.svg\" alt=\"Open In Colab\"/></a>"
      ]
    },
    {
      "cell_type": "code",
      "execution_count": 43,
      "metadata": {
        "colab": {
          "base_uri": "https://localhost:8080/"
        },
        "id": "M-y22TTBqlvw",
        "outputId": "60066a89-f7ac-4c39-b7b1-a97a63f62884"
      },
      "outputs": [
        {
          "output_type": "stream",
          "name": "stdout",
          "text": [
            "Drive already mounted at /content/drive; to attempt to forcibly remount, call drive.mount(\"/content/drive\", force_remount=True).\n"
          ]
        }
      ],
      "source": [
        "from google.colab import drive\n",
        "drive.mount('/content/drive')\n",
        "import pandas as pd\n",
        "from sklearn.preprocessing import LabelEncoder\n",
        "import seaborn as sns\n",
        "import matplotlib.pyplot as plt\n",
        "import numpy as np"
      ]
    },
    {
      "cell_type": "code",
      "source": [
        "path = \"/content/drive/MyDrive/cars_engage_2022.csv\"\n",
        "cars = pd.read_csv(path)\n",
        "cars_temp = pd.read_csv(path)\n",
        "lab_enc = LabelEncoder()"
      ],
      "metadata": {
        "id": "G_iilrn6qtmw"
      },
      "execution_count": 44,
      "outputs": []
    },
    {
      "cell_type": "markdown",
      "source": [
        "Data Cleaning i.e.\n",
        " 1. Filling all the missing values with their mode or mean\n",
        " 2. Label Encoding the Categorical Data\n",
        " 3. Manually Filling some Missing Data that is purely factual"
      ],
      "metadata": {
        "id": "SoYjrReArCgt"
      }
    },
    {
      "cell_type": "code",
      "source": [
        "cars['Ex-Showroom_Price'] = cars['Ex-Showroom_Price'].str.replace(\"Rs.\",\"\").str.replace(\",\",\"\")\n",
        "cars['Ex-Showroom_Price']=pd.to_numeric(cars['Ex-Showroom_Price'],errors='coerce')\n",
        "cars['Ex-Showroom_Price']=cars['Ex-Showroom_Price'].fillna(cars['Ex-Showroom_Price'].mean())\n",
        "cars['Displacement']=cars['Displacement'].str.replace(\"cc\",\"\")\n",
        "cars['Displacement']=pd.to_numeric(cars['Displacement'],errors='coerce')\n",
        "cars['Displacement'] = cars['Displacement'].fillna(cars['Displacement'].mean())\n",
        "cars['Valves_Per_Cylinder'] = cars['Valves_Per_Cylinder'].fillna(cars['Valves_Per_Cylinder'].mode()[0])\n",
        "cars['Cylinder'] = cars['Cylinders'].fillna(cars['Cylinders'].mode()[0])\n",
        "cars['Fuel_Tank_Capacity'] = cars['Fuel_Tank_Capacity'].str.replace(\" litres\",\"\")\n",
        "cars['Fuel_Tank_Capacity'] = pd.to_numeric(cars['Fuel_Tank_Capacity'],errors='coerce')\n",
        "cars['Fuel_Tank_Capacity'] = cars['Fuel_Tank_Capacity'].fillna(cars['Fuel_Tank_Capacity'].mean())\n",
        "cars['Height'] = cars['Height'].str.replace(\"mm\",\"\")\n",
        "cars['Height'] = pd.to_numeric(cars['Height'],errors='coerce')\n",
        "cars['Height'] = cars['Height'].fillna(cars['Height'].mean())\n",
        "cars['Length'] = cars['Length'].str.replace(\"mm\",\"\")\n",
        "cars['Length'] = pd.to_numeric(cars['Length'],errors='coerce')\n",
        "cars['Length'] = cars['Length'].fillna(cars['Length'].mean())\n",
        "cars['Width'] = cars['Width'].str.replace(\"mm\",\"\")\n",
        "cars['Width'] = pd.to_numeric(cars['Width'],errors='coerce')\n",
        "cars['Width'] = cars['Width'].fillna(cars['Width'].mean())\n",
        "cars['City_Mileage']=cars['City_Mileage'].str.replace(\"km/litre\",\"\")\n",
        "cars['City_Mileage']=pd.to_numeric(cars['City_Mileage'],errors='coerce')\n",
        "cars['City_Mileage'] = cars['City_Mileage'].fillna(cars['City_Mileage'].mean())\n",
        "cars['Highway_Mileage']=cars['Highway_Mileage'].str.replace(\"km/litre\",\"\")\n",
        "cars['Highway_Mileage']=pd.to_numeric(cars['Highway_Mileage'],errors='coerce')\n",
        "cars['Highway_Mileage'] = cars['Highway_Mileage'].fillna(cars['Highway_Mileage'].mean())\n",
        "cars['ARAI_Certified_Mileage'] = cars['ARAI_Certified_Mileage'].str.replace(\"km/litre\",\"\")\n",
        "cars['ARAI_Certified_Mileage'] = pd.to_numeric(cars['ARAI_Certified_Mileage'],errors='coerce')\n",
        "cars['ARAI_Certified_Mileage'] = cars['ARAI_Certified_Mileage'].fillna(cars['ARAI_Certified_Mileage'].mean())\n",
        "cars['ARAI_Certified_Mileage_for_CNG'] = cars['ARAI_Certified_Mileage_for_CNG'].str.replace(\"km/kg\",\"\")\n",
        "cars['ARAI_Certified_Mileage_for_CNG'] = pd.to_numeric(cars['ARAI_Certified_Mileage_for_CNG'],errors='coerce')\n",
        "cars['ARAI_Certified_Mileage_for_CNG'] = cars['ARAI_Certified_Mileage_for_CNG'].fillna(cars['ARAI_Certified_Mileage_for_CNG'].mean())\n",
        "cars['Kerb_Weight'] = cars['Kerb_Weight'].str.replace(\"kg\",\"\")\n",
        "cars['Kerb_Weight'] = pd.to_numeric(cars['Kerb_Weight'],errors='coerce')\n",
        "cars['Kerb_Weight'] = cars['Kerb_Weight'].fillna(cars['Kerb_Weight'].mean())\n",
        "cars['Ground_Clearance'] = cars['Ground_Clearance'].str.replace(\"mm\",\"\")\n",
        "cars['Ground_Clearance'] = pd.to_numeric(cars['Ground_Clearance'],errors='coerce')\n",
        "cars['Ground_Clearance'] = cars['Ground_Clearance'].fillna(cars['Ground_Clearance'].mean())\n",
        "cars['Front_Track'] = cars['Front_Track'].str.replace(\"mm\",\"\")\n",
        "cars['Front_Track'] = pd.to_numeric(cars['Front_Track'],errors='coerce')\n",
        "cars['Front_Track'] = cars['Front_Track'].fillna(cars['Front_Track'].mean())\n",
        "cars['Rear_Track'] = cars['Rear_Track'].str.replace(\"mm\",\"\")\n",
        "cars['Rear_Track'] = pd.to_numeric(cars['Rear_Track'],errors='coerce')\n",
        "cars['Rear_Track'] = cars['Rear_Track'].fillna(cars['Rear_Track'].mean())\n",
        "cars['Wheelbase'] = cars['Wheelbase'].str.replace(\"mm\",\"\")\n",
        "cars['Wheelbase'] = pd.to_numeric(cars['Wheelbase'],errors='coerce')\n",
        "cars['Wheelbase'] = cars['Wheelbase'].fillna(cars['Wheelbase'].mean())\n",
        "cars['Boot_Space'] = cars['Boot_Space'].str.replace(\"litres\",\"\")\n",
        "cars['Boot_Space'] = pd.to_numeric(cars['Boot_Space'],errors='coerce')\n",
        "cars['Boot_Space'] = cars['Boot_Space'].fillna(cars['Boot_Space'].mean())\n",
        "cars['Minimum_Turning_Radius'] = cars['Minimum_Turning_Radius'].str.replace(\"meter\",\"\")\n",
        "cars['Minimum_Turning_Radius'] = pd.to_numeric(cars['Minimum_Turning_Radius'],errors='coerce')\n",
        "cars['Minimum_Turning_Radius'] = cars['Minimum_Turning_Radius'].fillna(cars['Minimum_Turning_Radius'].mean())\n",
        "cars['Gross_Vehicle_Weight'] = cars['Gross_Vehicle_Weight'].str.replace(\"kg\",\"\")\n",
        "cars['Gross_Vehicle_Weight'] = pd.to_numeric(cars['Gross_Vehicle_Weight'],errors='coerce')\n",
        "cars['Gross_Vehicle_Weight'] = cars['Gross_Vehicle_Weight'].fillna(cars['Gross_Vehicle_Weight'].mean())\n",
        "cars['Electric_Range'] = cars['Electric_Range'].str.replace(\"km/full charge\",\"\")\n",
        "cars['Electric_Range'] = pd.to_numeric(cars['Electric_Range'],errors='coerce')\n",
        "cars['Electric_Range'] = cars['Electric_Range'].fillna(cars['Electric_Range'].mean())\n",
        "cars['Battery']=cars['Battery'].str.replace(\"ampere-hour\",\"\").str.replace(\"kWh,Battery Placed Under Rear Seats\",\"\").str.replace(\"(kWh), Lithium Ion\",\"\").str.replace(\" kWh* Advanced Li-ion polymer, liquid cooled battery pack with IP67 certification\",\"\").str.replace(\"\",\"\").str.replace(\"(kWh), Lithium Ion\",\"\")\n",
        "cars['Battery']=pd.to_numeric(cars['Battery'],errors='coerce')\n",
        "cars['Battery']=cars['Battery'].fillna(cars['Battery'].mean())\n",
        "cars['Gears']=pd.to_numeric(cars['Gears'],errors='coerce')\n",
        "cars['Gears']=cars['Gears'].fillna(cars['Gears'].mode())\n",
        "cars['Compression_Ratio']=pd.to_numeric(cars['Compression_Ratio'],errors='coerce')\n",
        "cars['USB_Ports']=pd.to_numeric(cars['USB_Ports'],errors='coerce')\n",
        "cars['USB_Ports']=cars['USB_Ports'].fillna(cars['USB_Ports'].mean())\n",
        "cars['Seating_Capacity']=cars['Seating_Capacity'].fillna(cars['Seating_Capacity'].median())\n",
        "cars['Compression_Ratio']=cars['Compression_Ratio'].fillna(cars['Compression_Ratio'].mean())"
      ],
      "metadata": {
        "id": "7ZERqpy0rDTC"
      },
      "execution_count": null,
      "outputs": []
    },
    {
      "cell_type": "markdown",
      "source": [
        "Prediction of Prices using the following parameters:\n",
        "1. Displacement\n",
        "2. Cylinders\n",
        "3. Valves per Cylinder\n",
        "4. Fuel tank Capacity\n",
        "5. City Mileage\n",
        "6. Highway Mileage\n",
        "7. Kerb Weight\n",
        "8. Gears\n",
        "9. Front Brakes\n",
        "10. Minimum Turning Radius\n",
        "11. Power\n",
        "12. Torque\n",
        "13. Seating Capacity\n",
        "14. Boot Space\n",
        "15. Airbags\n",
        "16. Volume of the car :- Height x length x breadth (To reduce features)\n",
        "17. Wheelbase\n",
        "18. Antilock Braking System (ABS)\n",
        "19. Gross Vehicle weight\n",
        "20. Ground Clearance\n",
        "\n",
        "This is done as all the parameters are are not required to be considered like the presence of odometer and speedometer need not be considered as these does not affect car prices very much and just like them I have removed many dormant features"
      ],
      "metadata": {
        "id": "kAQvV4WSrXc7"
      }
    },
    {
      "cell_type": "code",
      "source": [
        "model_data = cars[['Displacement','Cylinders','Valves_Per_Cylinder','Fuel_Tank_Capacity','City_Mileage','Highway_Mileage','Kerb_Weight','Gears','Minimum_Turning_Radius'\n",
        "                  ,'Power','Torque','Seating_Capacity','Boot_Space','Number_of_Airbags','Gross_Vehicle_Weight','Ground_Clearance']]\n",
        "model_data['Volume'] = (cars['Height']*cars['Width']*cars['Length'])/1000000000\n",
        "price_data = cars['Ex-Showroom_Price']"
      ],
      "metadata": {
        "id": "j0hkYX1YrQhk"
      },
      "execution_count": null,
      "outputs": []
    },
    {
      "cell_type": "code",
      "source": [
        "model_data['Cylinders'] = model_data['Cylinders'].fillna(model_data['Cylinders'].mode()[0])\n",
        "model_data['Gears'] = model_data['Gears'].fillna(model_data['Gears'].mode()[0])\n",
        "model_data['Number_of_Airbags'] = model_data['Number_of_Airbags'].fillna(0)"
      ],
      "metadata": {
        "id": "nYPeYoJ-rd_p"
      },
      "execution_count": null,
      "outputs": []
    },
    {
      "cell_type": "markdown",
      "source": [
        "Here in the feature power we stripped the string till only the power only to make the data more meaning full"
      ],
      "metadata": {
        "id": "Pu5OA_CIrisC"
      }
    },
    {
      "cell_type": "code",
      "source": [
        "i = 0\n",
        "for dat in model_data['Power']:\n",
        "  model_data['Power'][i] = dat.split('P',1)[0]\n",
        "  i += 1\n",
        "model_data['Power'][1275] = 202\n",
        "model_data['Power'] = pd.to_numeric(model_data['Power'],errors='coerce')\n",
        "model_data['Power'].fillna(model_data['Power'].mean(),inplace = True)"
      ],
      "metadata": {
        "id": "HG3dOds0rnZJ"
      },
      "execution_count": null,
      "outputs": []
    },
    {
      "cell_type": "markdown",
      "source": [
        "Now in torque we follow similar procedure as we did in power but here due to some NULL values in the column we need to use excetion handling in python, after following the procedure we now need to fill the NULL values and we do it by the mean"
      ],
      "metadata": {
        "id": "1h3AJ1iersEI"
      }
    },
    {
      "cell_type": "code",
      "source": [
        "j = 0\n",
        "for dat in model_data['Torque']:\n",
        " try:\n",
        "   model_data['Torque'][j] = dat.split('N',1)[0]\n",
        " except:\n",
        "   continue\n",
        " j += 1\n",
        " model_data['Torque'][1274] = 145\n",
        " model_data['Torque'][1275] = 441\n",
        " model_data['Torque'] = pd.to_numeric(model_data['Torque'],errors='coerce')\n",
        " model_data['Torque'].fillna(model_data['Torque'].mean(),inplace = True)"
      ],
      "metadata": {
        "id": "Lsss8EgDrxQq"
      },
      "execution_count": null,
      "outputs": []
    },
    {
      "cell_type": "code",
      "source": [
        "for data in model_data:\n",
        "  if(model_data[data].isna().sum() != 0):\n",
        "    print(data,\"\\n\")"
      ],
      "metadata": {
        "id": "11pcDu8Xr0SO"
      },
      "execution_count": 50,
      "outputs": []
    },
    {
      "cell_type": "markdown",
      "source": [
        "Till here we have cleaned our data according to our needs and the data is ready to be fed to the models for their training and prediction puroposes\n",
        "\n",
        "Models that will be trained:\n",
        "1. Linear Regression\n",
        "2. Polynomial Regression\n",
        "3. Support Vector Regression\n",
        "4. Decision Trees"
      ],
      "metadata": {
        "id": "AEz1RMuJr8aY"
      }
    },
    {
      "cell_type": "code",
      "source": [
        "from sklearn.linear_model import LinearRegression\n",
        "from sklearn.model_selection import train_test_split\n",
        "from sklearn.metrics import r2_score\n",
        "from sklearn.metrics import mean_squared_error\n",
        "from sklearn.preprocessing import PolynomialFeatures\n",
        "x = np.array(model_data)\n",
        "y = np.array(price_data)\n",
        "x_train, x_test, y_train, y_test = train_test_split(x,y,test_size = 0.25,random_state = 0)"
      ],
      "metadata": {
        "id": "NZqRtiBjr873"
      },
      "execution_count": 51,
      "outputs": []
    },
    {
      "cell_type": "markdown",
      "source": [
        "***Linear Regression***"
      ],
      "metadata": {
        "id": "fHuB6UzdsJWF"
      }
    },
    {
      "cell_type": "code",
      "source": [
        "lin_reg = LinearRegression()\n",
        "lin_reg.fit(x_train,y_train)"
      ],
      "metadata": {
        "colab": {
          "base_uri": "https://localhost:8080/"
        },
        "id": "FJMvoVZcsJyB",
        "outputId": "07668ff4-1070-407f-f139-5931f2eeb94f"
      },
      "execution_count": 52,
      "outputs": [
        {
          "output_type": "execute_result",
          "data": {
            "text/plain": [
              "LinearRegression()"
            ]
          },
          "metadata": {},
          "execution_count": 52
        }
      ]
    },
    {
      "cell_type": "code",
      "source": [
        "y_predict_LR = lin_reg.predict(x_test)"
      ],
      "metadata": {
        "id": "76snzDAFsNFl"
      },
      "execution_count": 53,
      "outputs": []
    },
    {
      "cell_type": "code",
      "source": [
        "score = r2_score(y_test,y_predict_LR)\n",
        "print(\"R2 Score is: \",score)"
      ],
      "metadata": {
        "colab": {
          "base_uri": "https://localhost:8080/"
        },
        "id": "PRK5Cv7xsPdm",
        "outputId": "1cf40ed1-b91b-4ba6-d000-1896f840e36d"
      },
      "execution_count": 54,
      "outputs": [
        {
          "output_type": "stream",
          "name": "stdout",
          "text": [
            "R2 Score is:  0.7344494492202284\n"
          ]
        }
      ]
    },
    {
      "cell_type": "code",
      "source": [
        "num_list = []\n",
        "i = 0\n",
        "for dat in y_test:\n",
        "  num_list.append(i)\n",
        "  i += 1\n",
        "plt.scatter(num_list,y_test,color = 'r')\n",
        "plt.xlabel('Testing Data')\n",
        "num_list.clear()\n",
        "i = 0\n",
        "for dat in y_predict_LR:\n",
        "  num_list.append(i)\n",
        "  i += 1\n",
        "plt.scatter(num_list,y_predict_LR,color = 'g')\n",
        "plt.ylabel('Predicted Data')\n",
        "plt.title('Linear Regression Model results visualization')\n",
        "plt.show()"
      ],
      "metadata": {
        "colab": {
          "base_uri": "https://localhost:8080/",
          "height": 295
        },
        "id": "LjB0AUENsRUQ",
        "outputId": "bf4b0165-921d-4d9d-e7da-29845620cbf8"
      },
      "execution_count": 55,
      "outputs": [
        {
          "output_type": "display_data",
          "data": {
            "text/plain": [
              "<Figure size 432x288 with 1 Axes>"
            ],
            "image/png": "[encoded data removed]"
          },
          "metadata": {
            "needs_background": "light"
          }
        }
      ]
    },
    {
      "cell_type": "markdown",
      "source": [
        "***Decision Tree***"
      ],
      "metadata": {
        "id": "Xel-67yzsW0e"
      }
    },
    {
      "cell_type": "code",
      "source": [
        "from sklearn.tree import DecisionTreeClassifier"
      ],
      "metadata": {
        "id": "INMu87H0s8B5"
      },
      "execution_count": 56,
      "outputs": []
    },
    {
      "cell_type": "code",
      "source": [
        "dtree = DecisionTreeClassifier()"
      ],
      "metadata": {
        "id": "crX6it4QtCWk"
      },
      "execution_count": 57,
      "outputs": []
    },
    {
      "cell_type": "code",
      "source": [
        "dtree.fit(x_train,y_train)"
      ],
      "metadata": {
        "colab": {
          "base_uri": "https://localhost:8080/"
        },
        "id": "7AnDDCn5tCoe",
        "outputId": "cf35df7b-8086-4e80-fc80-edf6ab3251f8"
      },
      "execution_count": 58,
      "outputs": [
        {
          "output_type": "execute_result",
          "data": {
            "text/plain": [
              "DecisionTreeClassifier()"
            ]
          },
          "metadata": {},
          "execution_count": 58
        }
      ]
    },
    {
      "cell_type": "code",
      "source": [
        "dtreepred=dtree.predict(x_test)"
      ],
      "metadata": {
        "id": "LP_ubxvMtGHo"
      },
      "execution_count": 59,
      "outputs": []
    },
    {
      "cell_type": "code",
      "source": [
        "r2_score(y_test,dtreepred)"
      ],
      "metadata": {
        "colab": {
          "base_uri": "https://localhost:8080/"
        },
        "id": "GyAayN2Ttb7T",
        "outputId": "8ff4660c-298f-4a01-c807-43295ba68334"
      },
      "execution_count": 60,
      "outputs": [
        {
          "output_type": "execute_result",
          "data": {
            "text/plain": [
              "0.6812633927563675"
            ]
          },
          "metadata": {},
          "execution_count": 60
        }
      ]
    },
    {
      "cell_type": "code",
      "source": [
        "from sklearn.metrics import classification_report,confusion_matrix"
      ],
      "metadata": {
        "id": "QMm3i07Ot4HT"
      },
      "execution_count": 61,
      "outputs": []
    },
    {
      "cell_type": "code",
      "source": [
        "from sklearn.tree import DecisionTreeRegressor\n",
        "dt=DecisionTreeRegressor()\n",
        "dt.fit(x_train,y_train)\n",
        "DTpred=dt.predict(x_test)\n",
        "r2_score(y_test,DTpred)\n",
        "x=0\n",
        "\n",
        "for i in y_test:\n",
        "  x=x+1\n",
        "  plt.scatter(x,i,color='blue')\n",
        "\n",
        "x=0\n",
        "\n",
        "for i in DTpred:\n",
        "  x=x+1\n",
        "  plt.scatter(x,i,color='red')\n",
        "plt.xlabel('actual value')\n",
        "plt.ylabel('Decision tree prediction')\n",
        "plt.title('model results visualisation')\n",
        "plt.show()"
      ],
      "metadata": {
        "colab": {
          "base_uri": "https://localhost:8080/",
          "height": 295
        },
        "id": "5E0l7WAruADJ",
        "outputId": "cd63fca1-e1fa-4a60-9cd5-f5b8e373e145"
      },
      "execution_count": 62,
      "outputs": [
        {
          "output_type": "display_data",
          "data": {
            "text/plain": [
              "<Figure size 432x288 with 1 Axes>"
            ],
            "image/png": "[encoded data removed]"
          },
          "metadata": {
            "needs_background": "light"
          }
        }
      ]
    },
    {
      "cell_type": "markdown",
      "source": [
        "***Random Forest***"
      ],
      "metadata": {
        "id": "bIUKEE6tu4os"
      }
    },
    {
      "cell_type": "code",
      "source": [
        "from sklearn.ensemble import RandomForestClassifier"
      ],
      "metadata": {
        "id": "RleDvX-Mu8pX"
      },
      "execution_count": 63,
      "outputs": []
    },
    {
      "cell_type": "code",
      "source": [
        "rfc = RandomForestClassifier(n_estimators=100)"
      ],
      "metadata": {
        "id": "GYV38IfuvL3h"
      },
      "execution_count": 64,
      "outputs": []
    },
    {
      "cell_type": "code",
      "source": [
        "rfc.fit(x_train, y_train)"
      ],
      "metadata": {
        "colab": {
          "base_uri": "https://localhost:8080/"
        },
        "id": "honEYEq0vNkw",
        "outputId": "1e9bb098-31e5-45eb-e664-103af4e1b296"
      },
      "execution_count": 65,
      "outputs": [
        {
          "output_type": "execute_result",
          "data": {
            "text/plain": [
              "RandomForestClassifier()"
            ]
          },
          "metadata": {},
          "execution_count": 65
        }
      ]
    },
    {
      "cell_type": "code",
      "source": [
        "rfc_pred = rfc.predict(x_test)"
      ],
      "metadata": {
        "id": "Qgh8C2v0vOF-"
      },
      "execution_count": 66,
      "outputs": []
    },
    {
      "cell_type": "code",
      "source": [
        "RFRpred=rfc.predict(x_test)"
      ],
      "metadata": {
        "id": "jfsQpB0JvSwd"
      },
      "execution_count": 67,
      "outputs": []
    },
    {
      "cell_type": "code",
      "source": [
        "r2_score(y_test,RFRpred)"
      ],
      "metadata": {
        "colab": {
          "base_uri": "https://localhost:8080/"
        },
        "id": "8F7BEd60vZsu",
        "outputId": "b92068c0-145f-4efc-d525-59102e5b6625"
      },
      "execution_count": 68,
      "outputs": [
        {
          "output_type": "execute_result",
          "data": {
            "text/plain": [
              "0.9146126378051506"
            ]
          },
          "metadata": {},
          "execution_count": 68
        }
      ]
    },
    {
      "cell_type": "code",
      "source": [
        "x=0\n",
        "for i in y_test:\n",
        "  x=x+1\n",
        "  plt.scatter(x,i,color='blue')\n",
        "x=0\n",
        "for i in RFRpred:\n",
        "  x=x+1\n",
        "  plt.scatter(x,i,color='red')\n",
        "  \n",
        "plt.xlabel('actual value')\n",
        "plt.ylabel('random forest regression prediction')\n",
        "plt.title('model results visualisation')"
      ],
      "metadata": {
        "colab": {
          "base_uri": "https://localhost:8080/",
          "height": 312
        },
        "id": "eV-U_WDyvjtz",
        "outputId": "d74ea51f-1ac3-48a4-db44-6d3e7dd990b6"
      },
      "execution_count": 69,
      "outputs": [
        {
          "output_type": "execute_result",
          "data": {
            "text/plain": [
              "Text(0.5, 1.0, 'model results visualisation')"
            ]
          },
          "metadata": {},
          "execution_count": 69
        },
        {
          "output_type": "display_data",
          "data": {
            "text/plain": [
              "<Figure size 432x288 with 1 Axes>"
            ],
            "image/png": "[encoded data removed]"
          },
          "metadata": {
            "needs_background": "light"
          }
        }
      ]
    }
  ]
}