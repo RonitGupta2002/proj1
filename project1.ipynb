{
  "cells": [
    {
      "cell_type": "code",
      "execution_count": 3,
      "metadata": {
        "id": "UksQFLOnqyv8"
      },
      "outputs": [],
      "source": [
        "import pandas as pd\n",
        "import numpy\n",
        "import io"
      ]
    },
    {
      "cell_type": "code",
      "execution_count": null,
      "metadata": {
        "id": "6UoWHJNp0dLb"
      },
      "outputs": [],
      "source": [
        "from google.colab import drive\n",
        "drive.mount('/content/drive')"
      ]
    },
    {
      "cell_type": "code",
      "execution_count": null,
      "metadata": {
        "id": "eYwEMgv01ZWM"
      },
      "outputs": [],
      "source": [
        "path = \"/content/drive/MyDrive/cars_engage_2022.csv\"\n",
        "df = pd.read_csv(path)\n",
        "df.describe"
      ]
    },
    {
      "cell_type": "code",
      "execution_count": 5,
      "metadata": {
        "id": "7S8wziJz2NhL"
      },
      "outputs": [],
      "source": [
        "df[\"Make\"].fillna(value = \"Unknown\", inplace = True)"
      ]
    },
    {
      "cell_type": "code",
      "execution_count": 6,
      "metadata": {
        "id": "PUoXG9Dg7ohL"
      },
      "outputs": [],
      "source": [
        "df[\"Model\"].fillna(value = \"Unknown\", inplace = True)"
      ]
    },
    {
      "cell_type": "code",
      "execution_count": 7,
      "metadata": {
        "id": "MQIU9rWqEIuH"
      },
      "outputs": [],
      "source": [
        "df[\"Variant\"].fillna(value = \"Unknown\", inplace = True)"
      ]
    },
    {
      "cell_type": "code",
      "execution_count": 8,
      "metadata": {
        "id": "lnSsdLYnEJPF"
      },
      "outputs": [],
      "source": [
        "df[\"Drivetrain\"].fillna(value = \"Unknown\", inplace = True)"
      ]
    },
    {
      "cell_type": "code",
      "execution_count": 9,
      "metadata": {
        "id": "g_CWa67WEPad"
      },
      "outputs": [],
      "source": [
        "df[\"Cylinder_Configuration\"].fillna(value = \"Unknown\", inplace = True)"
      ]
    },
    {
      "cell_type": "code",
      "execution_count": 10,
      "metadata": {
        "id": "pX8MoKMsEZRw"
      },
      "outputs": [],
      "source": [
        "df[\"Emission_Norm\"].fillna(value = \"Unknown\", inplace = True)"
      ]
    },
    {
      "cell_type": "code",
      "execution_count": 11,
      "metadata": {
        "id": "GL-gEOKmE6Vm"
      },
      "outputs": [],
      "source": [
        "df[\"Engine_Location\"].fillna(value = \"Unknown\", inplace = True)"
      ]
    },
    {
      "cell_type": "code",
      "execution_count": 12,
      "metadata": {
        "id": "VK-qBWZoE7En"
      },
      "outputs": [],
      "source": [
        "df[\"Fuel_System\"].fillna(value = \"Unknown\", inplace = True)"
      ]
    },
    {
      "cell_type": "code",
      "execution_count": 13,
      "metadata": {
        "id": "-Pv_iUJeF8Ix"
      },
      "outputs": [],
      "source": [
        "df[\"Fuel_Type\"].fillna(value = \"Unknown\", inplace = True)"
      ]
    },
    {
      "cell_type": "code",
      "execution_count": 14,
      "metadata": {
        "id": "GX4fqmGtGsoD"
      },
      "outputs": [],
      "source": [
        "df[\"Body_Type\"].fillna(value = \"Unknown\", inplace = True)"
      ]
    },
    {
      "cell_type": "code",
      "execution_count": 15,
      "metadata": {
        "id": "hlVcQAjmGw2u"
      },
      "outputs": [],
      "source": [
        "df[\"Front_Brakes\"].fillna(value = \"Unknown\", inplace = True)"
      ]
    },
    {
      "cell_type": "code",
      "execution_count": 16,
      "metadata": {
        "id": "Bq2gT9XOGzq_"
      },
      "outputs": [],
      "source": [
        "df[\"Front_Suspension\"].fillna(value = \"Unknown\", inplace = True)"
      ]
    },
    {
      "cell_type": "code",
      "execution_count": 17,
      "metadata": {
        "id": "v16lwECgG0am"
      },
      "outputs": [],
      "source": [
        "df[\"Rear_Brakes\"].fillna(value = \"Unknown\", inplace = True)"
      ]
    },
    {
      "cell_type": "code",
      "execution_count": 18,
      "metadata": {
        "id": "oaWIUfXrG1Ef"
      },
      "outputs": [],
      "source": [
        "df[\"Rear_Suspension\"].fillna(value = \"Unknown\", inplace = True)"
      ]
    },
    {
      "cell_type": "code",
      "execution_count": 19,
      "metadata": {
        "id": "_xVprOWoHW-r"
      },
      "outputs": [],
      "source": [
        "df[\"Power_Steering\"].fillna(value = \"Unknown\", inplace = True)"
      ]
    },
    {
      "cell_type": "code",
      "execution_count": 20,
      "metadata": {
        "id": "JhIB-0JuHZoo"
      },
      "outputs": [],
      "source": [
        "df[\"Power_Windows\"].fillna(value = \"Unknown\", inplace = True)"
      ]
    },
    {
      "cell_type": "code",
      "execution_count": 21,
      "metadata": {
        "id": "lxP-VIWwHaT5"
      },
      "outputs": [],
      "source": [
        "df[\"Keyless_Entry\"].fillna(value = \"Unknown\", inplace = True)"
      ]
    },
    {
      "cell_type": "code",
      "execution_count": 22,
      "metadata": {
        "id": "klA4XYFGHyyL"
      },
      "outputs": [],
      "source": [
        "df[\"Odometer\"].fillna(value = \"Unknown\", inplace = True)"
      ]
    },
    {
      "cell_type": "code",
      "execution_count": 23,
      "metadata": {
        "id": "FSgmx-4CH14F"
      },
      "outputs": [],
      "source": [
        "df[\"Speedometer\"].fillna(value = \"Unknown\", inplace = True)"
      ]
    },
    {
      "cell_type": "code",
      "execution_count": 24,
      "metadata": {
        "id": "4GvFt5boH2Oq"
      },
      "outputs": [],
      "source": [
        "df[\"Tachometer\"].fillna(value = \"Unknown\", inplace = True)"
      ]
    },
    {
      "cell_type": "code",
      "execution_count": 25,
      "metadata": {
        "id": "_kV1nY2BH2nJ"
      },
      "outputs": [],
      "source": [
        "df[\"Tripmeter\"].fillna(value = \"Unknown\", inplace = True)"
      ]
    },
    {
      "cell_type": "code",
      "execution_count": 26,
      "metadata": {
        "id": "vjSw_zkIH3ep"
      },
      "outputs": [],
      "source": [
        "df[\"Seats_Material\"].fillna(value = \"Unknown\", inplace = True)"
      ]
    },
    {
      "cell_type": "code",
      "execution_count": 27,
      "metadata": {
        "id": "NAfUwd6mIbxH"
      },
      "outputs": [],
      "source": [
        "df[\"Type\"].fillna(value = \"Unknown\", inplace = True)"
      ]
    },
    {
      "cell_type": "code",
      "execution_count": 28,
      "metadata": {
        "id": "J-fE7C7fIcXb"
      },
      "outputs": [],
      "source": [
        "df[\"Start_/_Stop_Button\"].fillna(value = \"Unknown\", inplace = True)"
      ]
    },
    {
      "cell_type": "code",
      "execution_count": 29,
      "metadata": {
        "id": "pLr6uv9IIc02"
      },
      "outputs": [],
      "source": [
        "df[\"12v_Power_Outlet\"].fillna(value = \"Unknown\", inplace = True)"
      ]
    },
    {
      "cell_type": "code",
      "execution_count": 30,
      "metadata": {
        "id": "e4uj_I1BIdWf"
      },
      "outputs": [],
      "source": [
        "df[\"Audiosystem\"].fillna(value = \"Unknown\", inplace = True)"
      ]
    },
    {
      "cell_type": "code",
      "execution_count": 31,
      "metadata": {
        "id": "CX6eHm8AId0Y"
      },
      "outputs": [],
      "source": [
        "df[\"Aux-in_Compatibility\"].fillna(value = \"Unknown\", inplace = True)"
      ]
    },
    {
      "cell_type": "code",
      "execution_count": 32,
      "metadata": {
        "id": "tFvTPDhzIeQU"
      },
      "outputs": [],
      "source": [
        "df[\"Average_Fuel_Consumption\"].fillna(value = \"Unknown\", inplace = True)"
      ]
    },
    {
      "cell_type": "code",
      "execution_count": 33,
      "metadata": {
        "id": "LTFZGa-eIeo6"
      },
      "outputs": [],
      "source": [
        "df[\"Bluetooth\"].fillna(value = \"Unknown\", inplace = True)"
      ]
    },
    {
      "cell_type": "code",
      "execution_count": 34,
      "metadata": {
        "id": "twzO-l4HIfF9"
      },
      "outputs": [],
      "source": [
        "df[\"Boot-lid_Opener\"].fillna(value = \"Unknown\", inplace = True)"
      ]
    },
    {
      "cell_type": "code",
      "execution_count": 35,
      "metadata": {
        "id": "zerpJ1KQIfde"
      },
      "outputs": [],
      "source": [
        "df[\"CD_/_MP3_/_DVD_Player\"].fillna(value = \"Unknown\", inplace = True)"
      ]
    },
    {
      "cell_type": "code",
      "execution_count": 36,
      "metadata": {
        "id": "EcD-qKwfOym7"
      },
      "outputs": [],
      "source": [
        "df[\"Central_Locking\"].fillna(value = \"Unknown\", inplace = True)"
      ]
    },
    {
      "cell_type": "code",
      "execution_count": 37,
      "metadata": {
        "id": "QG8BcekEOzVK"
      },
      "outputs": [],
      "source": [
        "df[\"Child_Safety_Locks\"].fillna(value = \"Unknown\", inplace = True)"
      ]
    },
    {
      "cell_type": "code",
      "execution_count": 38,
      "metadata": {
        "id": "n875Kg5dO010"
      },
      "outputs": [],
      "source": [
        "df[\"Clock\"].fillna(value = \"Unknown\", inplace = True)"
      ]
    },
    {
      "cell_type": "code",
      "execution_count": 39,
      "metadata": {
        "id": "D6yqnIWvO1TB"
      },
      "outputs": [],
      "source": [
        "df[\"Cup_Holders\"].fillna(value = \"Unknown\", inplace = True)"
      ]
    },
    {
      "cell_type": "code",
      "execution_count": 40,
      "metadata": {
        "id": "Y965MzrnO1pM"
      },
      "outputs": [],
      "source": [
        "df[\"Distance_to_Empty\"].fillna(value = \"Unknown\", inplace = True)"
      ]
    },
    {
      "cell_type": "code",
      "execution_count": 41,
      "metadata": {
        "id": "f63m5IP_O1--"
      },
      "outputs": [],
      "source": [
        "df[\"Door_Pockets\"].fillna(value = \"Unknown\", inplace = True)"
      ]
    },
    {
      "cell_type": "code",
      "execution_count": 42,
      "metadata": {
        "id": "iTWojf8JO2V1"
      },
      "outputs": [],
      "source": [
        "df[\"Engine_Malfunction_Light\"].fillna(value = \"Unknown\", inplace = True)"
      ]
    },
    {
      "cell_type": "code",
      "execution_count": 43,
      "metadata": {
        "id": "mikkNTc-O2rt"
      },
      "outputs": [],
      "source": [
        "df[\"Fuel-lid_Opener\"].fillna(value = \"Unknown\", inplace = True)"
      ]
    },
    {
      "cell_type": "code",
      "execution_count": 44,
      "metadata": {
        "id": "gqa-5gYtRbdu"
      },
      "outputs": [],
      "source": [
        "df[\"Fuel_Gauge\"].fillna(value = \"Unknown\", inplace = True)"
      ]
    },
    {
      "cell_type": "code",
      "execution_count": 45,
      "metadata": {
        "id": "DuLf9pj-RqiL"
      },
      "outputs": [],
      "source": [
        "df[\"Handbrake\"].fillna(value = \"Unknown\", inplace = True)"
      ]
    },
    {
      "cell_type": "code",
      "execution_count": 46,
      "metadata": {
        "id": "nZk7RY_sRrG6"
      },
      "outputs": [],
      "source": [
        "df[\"Instrument_Console\"].fillna(value = \"Unknown\", inplace = True)"
      ]
    },
    {
      "cell_type": "code",
      "execution_count": 47,
      "metadata": {
        "id": "R34R4JdDRrYo"
      },
      "outputs": [],
      "source": [
        "df[\"Low_Fuel_Warning\"].fillna(value = \"Unknown\", inplace = True)"
      ]
    },
    {
      "cell_type": "code",
      "execution_count": 48,
      "metadata": {
        "id": "gAhNlVQBRrrs"
      },
      "outputs": [],
      "source": [
        "df[\"Multifunction_Display\"].fillna(value = \"Unknown\", inplace = True)"
      ]
    },
    {
      "cell_type": "code",
      "execution_count": 49,
      "metadata": {
        "id": "VCnFdCCTRsBK"
      },
      "outputs": [],
      "source": [
        "df[\"Sun_Visor\"].fillna(value = \"Unknown\", inplace = True)"
      ]
    },
    {
      "cell_type": "code",
      "execution_count": 50,
      "metadata": {
        "id": "4ySLct1gRsTL"
      },
      "outputs": [],
      "source": [
        "df[\"Third_Row_AC_Vents\"].fillna(value = \"Unknown\", inplace = True)"
      ]
    },
    {
      "cell_type": "code",
      "execution_count": 51,
      "metadata": {
        "id": "9AtO2nGMRstr"
      },
      "outputs": [],
      "source": [
        "df[\"Ventilation_System\"].fillna(value = \"Unknown\", inplace = True)"
      ]
    },
    {
      "cell_type": "code",
      "execution_count": 52,
      "metadata": {
        "id": "fImD10q0RtCN"
      },
      "outputs": [],
      "source": [
        "df[\"Auto-Dimming_Rear-View_Mirror\"].fillna(value = \"Unknown\", inplace = True)"
      ]
    },
    {
      "cell_type": "code",
      "execution_count": 53,
      "metadata": {
        "id": "InYGID-iRtTh"
      },
      "outputs": [],
      "source": [
        "df[\"Hill_Assist\"].fillna(value = \"Unknown\", inplace = True)"
      ]
    },
    {
      "cell_type": "code",
      "execution_count": 54,
      "metadata": {
        "id": "tFrD5UroRuFt"
      },
      "outputs": [],
      "source": [
        "df[\"Gear_Indicator\"].fillna(value = \"Unknown\", inplace = True)"
      ]
    },
    {
      "cell_type": "code",
      "execution_count": 55,
      "metadata": {
        "id": "bT9E7U_TS1gx"
      },
      "outputs": [],
      "source": [
        "df[\"3_Point_Seat-Belt_in_Middle_Rear_Seat\"].fillna(value = \"Unknown\", inplace = True)"
      ]
    },
    {
      "cell_type": "code",
      "execution_count": 56,
      "metadata": {
        "id": "CZNT9vBmS_Qw"
      },
      "outputs": [],
      "source": [
        "df[\"Ambient_Lightning\"].fillna(value = \"Unknown\", inplace = True)"
      ]
    },
    {
      "cell_type": "code",
      "execution_count": 57,
      "metadata": {
        "id": "1ExarLE0TAHK"
      },
      "outputs": [],
      "source": [
        "df[\"Cargo/Boot_Lights\"].fillna(value = \"Unknown\", inplace = True)"
      ]
    },
    {
      "cell_type": "code",
      "execution_count": 58,
      "metadata": {
        "id": "_SIu55slTAaL"
      },
      "outputs": [],
      "source": [
        "df[\"Drive_Modes\"].fillna(value = \"Unknown\", inplace = True)"
      ]
    },
    {
      "cell_type": "code",
      "execution_count": 59,
      "metadata": {
        "id": "j_KvII6ATAto"
      },
      "outputs": [],
      "source": [
        "df[\"Engine_Immobilizer\"].fillna(value = \"Unknown\", inplace = True)"
      ]
    },
    {
      "cell_type": "code",
      "execution_count": 60,
      "metadata": {
        "id": "i09jJNUBTA-E"
      },
      "outputs": [],
      "source": [
        "df[\"High_Speed_Alert_System\"].fillna(value = \"Unknown\", inplace = True)"
      ]
    },
    {
      "cell_type": "code",
      "execution_count": 65,
      "metadata": {
        "id": "kxWMCmLTTBSS"
      },
      "outputs": [],
      "source": [
        "df[\"Lane_Watch_Camera/_Side_Mirror_Camera\"].fillna(value = \"Unknown\", inplace = True)"
      ]
    },
    {
      "cell_type": "code",
      "execution_count": 64,
      "metadata": {
        "id": "N40E6Ca-TBkG"
      },
      "outputs": [],
      "source": [
        "df[\"Gear_Indicator\"].fillna(value = \"Unknown\", inplace = True)"
      ]
    },
    {
      "cell_type": "code",
      "execution_count": 63,
      "metadata": {
        "id": "TWnKCHjUTBy3"
      },
      "outputs": [],
      "source": [
        "df[\"Passenger_Side_Seat-Belt_Reminder\"].fillna(value = \"Unknown\", inplace = True)"
      ]
    },
    {
      "cell_type": "code",
      "execution_count": 62,
      "metadata": {
        "id": "8GygjKCJWZBq"
      },
      "outputs": [],
      "source": [
        "df[\"Seat_Back_Pockets\"].fillna(value = \"Unknown\", inplace = True)"
      ]
    },
    {
      "cell_type": "code",
      "execution_count": 61,
      "metadata": {
        "id": "R5ihB5U3WZW4"
      },
      "outputs": [],
      "source": [
        "df[\"Voice_Recognition\"].fillna(value = \"Unknown\", inplace = True)"
      ]
    },
    {
      "cell_type": "code",
      "execution_count": 66,
      "metadata": {
        "id": "KtEqqPM9WZ4o"
      },
      "outputs": [],
      "source": [
        "df[\"ABS_(Anti-lock_Braking_System)\"].fillna(value = \"Unknown\", inplace = True)"
      ]
    },
    {
      "cell_type": "code",
      "execution_count": 67,
      "metadata": {
        "id": "brTJW5PQWaLP"
      },
      "outputs": [],
      "source": [
        "df[\"Headlight_Reminder\"].fillna(value = \"Unknown\", inplace = True)"
      ]
    },
    {
      "cell_type": "code",
      "execution_count": 68,
      "metadata": {
        "id": "3Uemqq7xWakJ"
      },
      "outputs": [],
      "source": [
        "df[\"Adjustable_Headrests\"].fillna(value = \"Unknown\", inplace = True)"
      ]
    },
    {
      "cell_type": "code",
      "execution_count": 69,
      "metadata": {
        "id": "jUie9j9zWa0-"
      },
      "outputs": [],
      "source": [
        "df[\"Airbags\"].fillna(value = \"Unknown\", inplace = True)"
      ]
    },
    {
      "cell_type": "code",
      "execution_count": 70,
      "metadata": {
        "id": "OF27gsaOWbFd"
      },
      "outputs": [],
      "source": [
        "df[\"Door_Ajar_Warning\"].fillna(value = \"Unknown\", inplace = True)"
      ]
    },
    {
      "cell_type": "code",
      "execution_count": 71,
      "metadata": {
        "id": "4G7PtoQDWbf6"
      },
      "outputs": [],
      "source": [
        "df[\"FM_Radio\"].fillna(value = \"Unknown\", inplace = True)"
      ]
    },
    {
      "cell_type": "code",
      "execution_count": null,
      "metadata": {
        "id": "lG_qOAXZYvGb"
      },
      "outputs": [],
      "source": [
        "df[\"Height\"]=df[\"Height\"].str.rstrip(\"mm\")\n",
        "df[\"Height\"]=pd.to_numeric(df[\"Height\"],errors='coerce')\n",
        "df[\"Height\"].fillna(df[\"Height\"].mean(),inplace=True)\n",
        "df[\"Displacement\"]=df[\"Displacement\"].str.rstrip(\"cc\")\n",
        "df[\"Displacement\"]=pd.to_numeric(df[\"Displacement\"],errors='coerce')\n",
        "df[\"Displacement\"].fillna(df[\"Displacement\"].mean(),inplace=True)\n"
      ]
    },
    {
      "cell_type": "code",
      "execution_count": 142,
      "metadata": {
        "colab": {
          "base_uri": "https://localhost:8080/"
        },
        "id": "q5YC5aSwZQJC",
        "outputId": "e55a1f17-7c2b-443a-9e5b-870d32c5e6b6"
      },
      "outputs": [
        {
          "data": {
            "text/plain": [
              "0"
            ]
          },
          "execution_count": 142,
          "metadata": {},
          "output_type": "execute_result"
        }
      ],
      "source": [
        "(df['Width'].isnull().sum())"
      ]
    },
    {
      "cell_type": "code",
      "execution_count": null,
      "metadata": {
        "id": "l3zWC-9dZrre"
      },
      "outputs": [],
      "source": [
        "df[\"Width\"]=df[\"Width\"].str.rstrip(\"mm\")\n",
        "df[\"Width\"]=pd.to_numeric(df[\"Width\"],errors='coerce')\n",
        "df[\"Width\"].fillna(df[\"Width\"].mean(),inplace=True)"
      ]
    },
    {
      "cell_type": "code",
      "execution_count": 85,
      "metadata": {
        "id": "I6EQzCZtZwc6"
      },
      "outputs": [],
      "source": [
        "df[\"Fuel_Tank_Capacity\"]=df[\"Fuel_Tank_Capacity\"].str.rstrip(\"litres\")\n",
        "df[\"Fuel_Tank_Capacity\"]=pd.to_numeric(df[\"Fuel_Tank_Capacity\"],errors='coerce')\n",
        "df[\"Fuel_Tank_Capacity\"].fillna(df[\"Fuel_Tank_Capacity\"].mean(),inplace=True)"
      ]
    },
    {
      "cell_type": "code",
      "execution_count": 90,
      "metadata": {
        "id": "pMUBagKJZ2pR"
      },
      "outputs": [],
      "source": [
        "df[\"Cylinders\"].fillna(df[\"Cylinders\"].mode(),inplace=True)"
      ]
    },
    {
      "cell_type": "code",
      "execution_count": 91,
      "metadata": {
        "id": "cwNJkQhbaIQF"
      },
      "outputs": [],
      "source": [
        "df[\"Valves_Per_Cylinder\"].fillna(df[\"Valves_Per_Cylinder\"].mode(),inplace=True)\n",
        "df[\"Drivetrain\"].fillna(\"Unknown\", inplace=True)"
      ]
    },
    {
      "cell_type": "code",
      "execution_count": 92,
      "metadata": {
        "id": "PzXszryJaIpM"
      },
      "outputs": [],
      "source": [
        "df[\"Electric_Range\"]=df[\"Electric_Range\"].str.rstrip(\"km/full charge\")\n",
        "df[\"Electric_Range\"]=pd.to_numeric(df[\"Electric_Range\"],errors='coerce')\n",
        "df[\"Electric_Range\"].fillna(df[\"Electric_Range\"].mean(),inplace=True)"
      ]
    },
    {
      "cell_type": "code",
      "execution_count": 93,
      "metadata": {
        "id": "e_fO3zjYac7L"
      },
      "outputs": [],
      "source": [
        "df[\"Heads-Up_Display\"].fillna(\"Unknown\", inplace=True)\n",
        "df[\"Welcome_Lights\"].fillna(\"Unknown\", inplace=True)\n",
        "df[\"Battery\"].fillna(\"Unknown\", inplace=True)"
      ]
    },
    {
      "cell_type": "code",
      "execution_count": 94,
      "metadata": {
        "id": "mN4wh8HSaj1t"
      },
      "outputs": [],
      "source": [
        "df[\"USB_Ports\"]=pd.to_numeric(df[\"USB_Ports\"],errors='coerce')\n",
        "df[\"USB_Ports\"].fillna(df[\"USB_Ports\"].mode(),inplace=True)"
      ]
    },
    {
      "cell_type": "code",
      "execution_count": 96,
      "metadata": {
        "id": "er1pOHQnaubj"
      },
      "outputs": [],
      "source": [
        "df[\"iPod_Compatibility\"].fillna(\"Unknown\", inplace=True)\n",
        "df[\"ESP_(Electronic_Stability_Program)\"].fillna(\"Unknown\", inplace=True)\n",
        "df[\"Cooled_Glove_Box\"].fillna(\"Unknown\", inplace=True)\n",
        "df[\"Recommended_Tyre_Pressure\"].fillna(\"Unknown\", inplace=True)\n",
        "df[\"Heated_Seats\"].fillna(\"Unknown\", inplace=True)\n",
        "df[\"Turbocharger\"].fillna(\"Unknown\", inplace=True)\n",
        "df[\"ISOFIX_(Child-Seat_Mount)\"].fillna(\"Unknown\", inplace=True)\n",
        "df[\"Rain_Sensing_Wipers\"].fillna(\"Unknown\", inplace=True)\n",
        "df[\"Paddle_Shifters\"].fillna(\"Unknown\", inplace=True)\n",
        "df[\"Leather_Wrapped_Steering\"].fillna(\"Unknown\", inplace=True)\n",
        "df[\"Automatic_Headlamps\"].fillna(\"Unknown\", inplace=True)\n",
        "df[\"Engine_Type\"].fillna(\"Unknown\", inplace=True)\n",
        "df[\"ASR_/_Traction_Control\"].fillna(\"Unknown\", inplace=True)\n",
        "df[\"Cruise_Control\"].fillna(\"Unknown\", inplace=True)"
      ]
    },
    {
      "cell_type": "code",
      "execution_count": 99,
      "metadata": {
        "id": "pjIhObrYa9lD"
      },
      "outputs": [],
      "source": [
        "df[\"USB_Compatibility\"].fillna(\"Unknown\", inplace=True)\n",
        "df[\"Android_Auto\"].fillna(\"Unknown\", inplace=True)\n",
        "df[\"Apple_CarPlay\"].fillna(\"Unknown\", inplace=True)\n",
        "df[\"Cigarette_Lighter\"].fillna(\"Unknown\", inplace=True)\n",
        "df[\"Infotainment_Screen\"].fillna(\"Unknown\", inplace=True)\n",
        "df[\"Multifunction_Steering_Wheel\"].fillna(\"Unknown\", inplace=True)\n",
        "df[\"Second_Row_AC_Vents\"].fillna(\"Unknown\", inplace=True)\n",
        "df[\"Tyre_Pressure_Monitoring_System\"].fillna(\"Unknown\", inplace=True)\n",
        "df[\"Rear_Center_Armrest\"].fillna(\"Unknown\", inplace=True)"
      ]
    },
    {
      "cell_type": "code",
      "execution_count": 100,
      "metadata": {
        "id": "bGvB0vBrbN5P"
      },
      "outputs": [],
      "source": [
        "df[\"Average_Speed\"].fillna(\"Unknown\", inplace=True)\n",
        "df[\"EBA_(Electronic_Brake_Assist)\"].fillna(\"Unknown\", inplace=True)\n",
        "df[\"Seat_Height_Adjustment\"].fillna(\"Unknown\", inplace=True)\n",
        "df[\"Navigation_System\"].fillna(\"Unknown\", inplace=True)"
      ]
    },
    {
      "cell_type": "code",
      "execution_count": 101,
      "metadata": {
        "id": "fNUexdo3bSOP"
      },
      "outputs": [],
      "source": [
        "df[\"Parking_Assistance\"].fillna(\"Unknown\", inplace=True)\n",
        "df[\"Key_Off_Reminder\"].fillna(\"Unknown\", inplace=True)"
      ]
    },
    {
      "cell_type": "code",
      "execution_count": 102,
      "metadata": {
        "id": "Eod0SisFbZBX"
      },
      "outputs": [],
      "source": [
        "df[\"Other_Specs\"]=df[\"Other_Specs\"].str.replace(\"NA\",\"\")\n",
        "df[\"Other_Specs\"].fillna(\"Unknown\", inplace=True)\n",
        "df[\"Other_specs\"]=df[\"Other_specs\"].str.replace(\"NA\",\"\")\n",
        "df[\"Other_specs\"].fillna(\"Unknown\", inplace=True)"
      ]
    },
    {
      "cell_type": "code",
      "execution_count": 103,
      "metadata": {
        "id": "Rrxt9lmXbixl"
      },
      "outputs": [],
      "source": [
        "df[\"Compression_Ratio\"]=pd.to_numeric(df[\"Compression_Ratio\"],errors='coerce')\n",
        "df[\"Compression_Ratio\"].fillna(df[\"Compression_Ratio\"].mean(),inplace=True)\n",
        "df[\"Adjustable_Steering_Column\"].fillna(\"Unknown\", inplace=True)"
      ]
    },
    {
      "cell_type": "code",
      "execution_count": 104,
      "metadata": {
        "id": "ttONIbbhbprC"
      },
      "outputs": [],
      "source": [
        "df[\"EBD_(Electronic_Brake-force_Distribution)\"].fillna(\"Unknown\", inplace=True)\n",
        "df[\"Fasten_Seat_Belt_Warning\"].fillna(\"Unknown\", inplace=True)\n",
        "df[\"Gear_Shift_Reminder\"].fillna(\"Unknown\", inplace=True)\n",
        "df[\"Number_of_Airbags\"]=pd.to_numeric(df[\"Number_of_Airbags\"],errors='coerce')\n",
        "df[\"Number_of_Airbags\"].fillna(df[\"Number_of_Airbags\"].mode(),inplace=True)"
      ]
    },
    {
      "cell_type": "code",
      "execution_count": 105,
      "metadata": {
        "id": "RW4eQ6Jzb5Hv"
      },
      "outputs": [],
      "source": [
        "df[\"Gross_Vehicle_Weight\"]=df[\"Gross_Vehicle_Weight\"].str.rstrip(\"kg\")\n",
        "df[\"Gross_Vehicle_Weight\"]=pd.to_numeric(df[\"Gross_Vehicle_Weight\"],errors='coerce')\n",
        "df[\"Gross_Vehicle_Weight\"].fillna(df[\"Gross_Vehicle_Weight\"].mean(),inplace=True)"
      ]
    },
    {
      "cell_type": "code",
      "execution_count": 106,
      "metadata": {
        "id": "wRH8RU1wb-ik"
      },
      "outputs": [],
      "source": [
        "df[\"Walk_Away_Auto_Car_Lock\"].fillna(\"Unknown\", inplace=True)"
      ]
    },
    {
      "cell_type": "code",
      "execution_count": 107,
      "metadata": {
        "id": "9ZSw41uocDyz"
      },
      "outputs": [],
      "source": [
        "df[\"Minimum_Turning_Radius\"]=df[\"Minimum_Turning_Radius\"].str.rstrip(\"meter\")\n",
        "df[\"Minimum_Turning_Radius\"]=pd.to_numeric(df[\"Minimum_Turning_Radius\"],errors='coerce')\n",
        "df[\"Minimum_Turning_Radius\"].fillna(df[\"Minimum_Turning_Radius\"].mean(),inplace=True)"
      ]
    },
    {
      "cell_type": "code",
      "execution_count": 108,
      "metadata": {
        "id": "wTg0V78DcI-j"
      },
      "outputs": [],
      "source": [
        "df[\"FM_Radio\"].fillna(\"Unknown\", inplace=True)"
      ]
    },
    {
      "cell_type": "code",
      "execution_count": 109,
      "metadata": {
        "id": "8hjwOzBVcO2K"
      },
      "outputs": [],
      "source": [
        "df[\"Boot_Space\"]=df[\"Boot_Space\"].str.rstrip(\"litres\")\n",
        "df[\"Boot_Space\"]=pd.to_numeric(df[\"Boot_Space\"],errors='coerce')\n",
        "df[\"Boot_Space\"].fillna(df[\"Boot_Space\"].mean(),inplace=True)\n",
        "df[\"Extended_Warranty\"].fillna(\"Unknown\", inplace=True)"
      ]
    },
    {
      "cell_type": "code",
      "execution_count": 110,
      "metadata": {
        "id": "p4RpD40Wcarg"
      },
      "outputs": [],
      "source": [
        "df[\"Front_Track\"]=df[\"Front_Track\"].str.rstrip(\"mm\")\n",
        "df[\"Front_Track\"]=pd.to_numeric(df[\"Front_Track\"],errors='coerce')\n",
        "df[\"Front_Track\"].fillna(df[\"Front_Track\"].mean(),inplace=True)\n",
        "df[\"Rear_Track\"]=df[\"Rear_Track\"].str.rstrip(\"mm\")\n",
        "df[\"Rear_Track\"]=pd.to_numeric(df[\"Rear_Track\"],errors='coerce')\n",
        "df[\"Rear_Track\"].fillna(df[\"Rear_Track\"].mean(),inplace=True)\n",
        "df[\"Front_Tyre_&_Rim\"].fillna(\"Unknown\", inplace=True)\n",
        "df[\"Rear_Tyre_&_Rim\"].fillna(\"Unknown\", inplace=True)"
      ]
    },
    {
      "cell_type": "code",
      "execution_count": null,
      "metadata": {
        "id": "aPQrSrZ_c48K"
      },
      "outputs": [],
      "source": [
        "df[\"Highway_Mileage\"]=df[\"Highway_Mileage\"].str.replace(\"?\",\"\")\n",
        "df[\"Highway_Mileage\"]=df[\"Highway_Mileage\"].str.replace(\",\",\".\")\n",
        "df[\"Highway_Mileage\"]=df[\"Highway_Mileage\"].str.rstrip(\"km/litre\")\n",
        "df[\"Highway_Mileage\"]=pd.to_numeric(df[\"Highway_Mileage\"],errors='coerce')\n",
        "df[\"Highway_Mileage\"].fillna(df[\"Highway_Mileage\"].mean(),inplace=True)\n",
        "df[\"ARAI_Certified_Mileage\"]=df[\"ARAI_Certified_Mileage\"].str.replace(\"?\",\"\")\n",
        "df[\"ARAI_Certified_Mileage\"]=df[\"ARAI_Certified_Mileage\"].str.replace(\",\",\".\")\n",
        "df[\"ARAI_Certified_Mileage\"]=df[\"ARAI_Certified_Mileage\"].str.rstrip(\"km/litre\")\n",
        "df[\"ARAI_Certified_Mileage\"]=pd.to_numeric(df[\"ARAI_Certified_Mileage\"],errors='coerce')\n",
        "df[\"ARAI_Certified_Mileage\"].fillna(df[\"ARAI_Certified_Mileage\"].mean(),inplace=True)\n",
        "df[\"ARAI_Certified_Mileage_for_CNG\"].fillna((df[\"ARAI_Certified_Mileage_for_CNG\"].str.rstrip(\"km/kg\").astype(float)).mean(),inplace=True)\n",
        "df[\"Kerb_Weight\"]=df[\"Kerb_Weight\"].str.rstrip(\"kg\")\n",
        "df[\"Kerb_Weight\"]=pd.to_numeric(df[\"Kerb_Weight\"],errors='coerce')\n",
        "df[\"Kerb_Weight\"].fillna(df[\"Kerb_Weight\"].mean(),inplace=True)\n",
        "df[\"Gears\"]=pd.to_numeric(df[\"Gears\"],errors='coerce')\n",
        "df[\"Gears\"].fillna(df[\"Gears\"].mean(),inplace=True)\n",
        "df[\"Ground_Clearance\"].fillna((df[\"Ground_Clearance\"].str.rstrip(\"mm\").astype(float)).mean(),inplace=True)"
      ]
    },
    {
      "cell_type": "code",
      "execution_count": 113,
      "metadata": {
        "id": "2YBPZ6TxdZea"
      },
      "outputs": [],
      "source": [
        "df[\"Doors\"].fillna(df[\"Doors\"].mode(),inplace=True)"
      ]
    },
    {
      "cell_type": "code",
      "execution_count": null,
      "metadata": {
        "id": "fQv4uLPYdilE"
      },
      "outputs": [],
      "source": [
        "df[\"City_Mileage\"]=df[\"City_Mileage\"].str.replace(\"?\",\"\")\n",
        "df[\"City_Mileage\"]=df[\"City_Mileage\"].str.replace(\",\",\".\")\n",
        "df[\"City_Mileage\"]=df[\"City_Mileage\"].str.rstrip(\"km/litre\")\n",
        "df[\"City_Mileage\"]=pd.to_numeric(df[\"City_Mileage\"],errors='coerce')\n",
        "df[\"City_Mileage\"].fillna(df[\"City_Mileage\"].mean(),inplace=True)"
      ]
    },
    {
      "cell_type": "code",
      "execution_count": 117,
      "metadata": {
        "id": "LitXcf6neApd"
      },
      "outputs": [],
      "source": [
        "df[\"Power_Seats\"].fillna(\"Unknown\", inplace=True)"
      ]
    },
    {
      "cell_type": "code",
      "execution_count": 118,
      "metadata": {
        "id": "vuZDLlhseLII"
      },
      "outputs": [],
      "source": [
        "df[\"Wheelbase\"]=df[\"Wheelbase\"].str.rstrip(\"mm\")\n",
        "df[\"Wheelbase\"]=pd.to_numeric(df[\"Wheelbase\"],errors='coerce')\n",
        "df[\"Wheelbase\"].fillna(df[\"Wheelbase\"].mean(),inplace=True)"
      ]
    },
    {
      "cell_type": "code",
      "execution_count": 120,
      "metadata": {
        "id": "IWuWbEiaerll"
      },
      "outputs": [],
      "source": [
        "df[\"Seating_Capacity\"]=pd.to_numeric(df[\"Seating_Capacity\"],errors='coerce')\n",
        "df[\"Seating_Capacity\"].fillna(df[\"Seating_Capacity\"].mode(),inplace=True)"
      ]
    },
    {
      "cell_type": "code",
      "execution_count": 143,
      "metadata": {
        "id": "op4l3JwNe-G1"
      },
      "outputs": [],
      "source": [
        "df[\"Basic_Warranty\"].fillna(\"Unknown\", inplace=True)"
      ]
    },
    {
      "cell_type": "code",
      "execution_count": 128,
      "metadata": {
        "id": "m4tZGhqhfRPK"
      },
      "outputs": [],
      "source": [
        "df[\"Wheels_Size\"].fillna(\"Unknown\", inplace=True)"
      ]
    },
    {
      "cell_type": "code",
      "execution_count": 134,
      "metadata": {
        "id": "_NsXUeF-fu3y"
      },
      "outputs": [],
      "source": [
        "df[\"Torque\"].fillna(\"Unknown\", inplace=True)"
      ]
    },
    {
      "cell_type": "code",
      "execution_count": 144,
      "metadata": {
        "id": "ipqKvODXf0GV"
      },
      "outputs": [],
      "source": [
        "df[\"USB_Ports\"]=pd.to_numeric(df[\"USB_Ports\"],errors='coerce')\n",
        "df[\"USB_Ports\"].fillna(df[\"USB_Ports\"].mean(),inplace=True)"
      ]
    },
    {
      "cell_type": "code",
      "execution_count": 254,
      "metadata": {
        "id": "djG4xZ9wkimp"
      },
      "outputs": [],
      "source": [
        "df[\"Number_of_Airbags\"]=pd.to_numeric(df[\"Number_of_Airbags\"],errors='coerce')\n",
        "df[\"Number_of_Airbags\"].fillna(df[\"Number_of_Airbags\"].mean(),inplace=True)\n",
        "df[\"Doors\"].fillna(df[\"Doors\"].mean(),inplace=True)\n",
        "df[\"Seating_Capacity\"]=pd.to_numeric(df[\"Seating_Capacity\"],errors='coerce')\n",
        "df[\"Seating_Capacity\"].fillna(df[\"Seating_Capacity\"].mean(),inplace=True)"
      ]
    },
    {
      "cell_type": "code",
      "execution_count": 256,
      "metadata": {
        "colab": {
          "base_uri": "https://localhost:8080/"
        },
        "id": "c84xG3xJrfpd",
        "outputId": "b854e442-dfcb-4209-ec54-5d5d925edf4e"
      },
      "outputs": [
        {
          "data": {
            "text/plain": [
              "0"
            ]
          },
          "execution_count": 256,
          "metadata": {},
          "output_type": "execute_result"
        }
      ],
      "source": [
        "(df.isnull().sum()).sum()"
      ]
    }
  ],
  "metadata": {
    "colab": {
      "name": "Untitled0.ipynb",
      "provenance": []
    },
    "kernelspec": {
      "display_name": "Python 3",
      "name": "python3"
    },
    "language_info": {
      "name": "python"
    }
  },
  "nbformat": 4,
  "nbformat_minor": 0
}
